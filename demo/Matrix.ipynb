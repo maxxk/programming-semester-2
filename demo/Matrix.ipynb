{
 "cells": [
  {
   "cell_type": "code",
   "execution_count": 1,
   "metadata": {},
   "outputs": [],
   "source": [
    "%matplotlib inline"
   ]
  },
  {
   "cell_type": "code",
   "execution_count": 2,
   "metadata": {},
   "outputs": [],
   "source": [
    "from matplotlib import pyplot as plt\n",
    "import numpy as np"
   ]
  },
  {
   "cell_type": "code",
   "execution_count": 3,
   "metadata": {},
   "outputs": [
    {
     "data": {
      "image/png": "[encoded data removed]",
      "text/plain": [
       "<Figure size 432x288 with 1 Axes>"
      ]
     },
     "metadata": {
      "needs_background": "light"
     },
     "output_type": "display_data"
    }
   ],
   "source": [
    "\n",
    "X = np.linspace(-np.pi, np.pi, 256, endpoint=True)\n",
    "C, S = np.cos(X), np.sin(X)\n",
    "\n",
    "plt.plot(X, C)\n",
    "plt.plot(X, S)\n",
    "\n",
    "plt.show()"
   ]
  },
  {
   "cell_type": "code",
   "execution_count": 4,
   "metadata": {},
   "outputs": [],
   "source": [
    "import sympy as sym"
   ]
  },
  {
   "cell_type": "code",
   "execution_count": 5,
   "metadata": {},
   "outputs": [],
   "source": [
    "from sympy import Symbol as S"
   ]
  },
  {
   "cell_type": "code",
   "execution_count": 6,
   "metadata": {},
   "outputs": [
    {
     "data": {
      "text/latex": [
       "$\\displaystyle \\left[\\begin{matrix}x_{00} & x_{01} & x_{02} & x_{03} & x_{04}\\\\x_{10} & x_{11} & x_{12} & x_{13} & x_{14}\\\\x_{20} & x_{21} & x_{22} & x_{23} & x_{24}\\\\x_{30} & x_{31} & x_{32} & x_{33} & x_{34}\\\\x_{40} & x_{41} & x_{42} & x_{43} & x_{44}\\end{matrix}\\right]$"
      ],
      "text/plain": [
       "Matrix([\n",
       "[x_00, x_01, x_02, x_03, x_04],\n",
       "[x_10, x_11, x_12, x_13, x_14],\n",
       "[x_20, x_21, x_22, x_23, x_24],\n",
       "[x_30, x_31, x_32, x_33, x_34],\n",
       "[x_40, x_41, x_42, x_43, x_44]])"
      ]
     },
     "execution_count": 6,
     "metadata": {},
     "output_type": "execute_result"
    }
   ],
   "source": [
    "def new_matrix(symbol, rows, columns=None):\n",
    "    if not columns:\n",
    "        columns = rows\n",
    "    return sym.Matrix([\n",
    "        [ S('{}_{}{}'.format(symbol, i, j))\n",
    "          for j in range(0, columns)\n",
    "        ] for i in range(0, rows) ])\n",
    "new_matrix('x', 5)"
   ]
  },
  {
   "cell_type": "code",
   "execution_count": 7,
   "metadata": {},
   "outputs": [
    {
     "data": {
      "text/latex": [
       "$\\displaystyle \\left[\\begin{matrix}1 & \\frac{a_{01}}{a_{00}} & \\frac{a_{02}}{a_{00}}\\\\0 & a_{11} - \\frac{a_{01} a_{10}}{a_{00}} & a_{12} - \\frac{a_{02} a_{10}}{a_{00}}\\\\a_{20} & a_{21} & a_{22}\\end{matrix}\\right]$"
      ],
      "text/plain": [
       "Matrix([\n",
       "[   1,             a_01/a_00,             a_02/a_00],\n",
       "[   0, a_11 - a_01*a_10/a_00, a_12 - a_02*a_10/a_00],\n",
       "[a_20,                  a_21,                  a_22]])"
      ]
     },
     "execution_count": 7,
     "metadata": {},
     "output_type": "execute_result"
    }
   ],
   "source": [
    "def gauss_diagonal(matrix, diagonal):\n",
    "    matrix = sym.Matrix(matrix)\n",
    "    coeff = matrix.row(diagonal)[diagonal]\n",
    "    matrix.row_op(diagonal, lambda value, index: value / coeff)\n",
    "    return matrix\n",
    "\n",
    "def gauss_eliminate_single(matrix, diagonal, row):\n",
    "    matrix = sym.Matrix(matrix)\n",
    "    coeff = matrix.row(row)[diagonal]\n",
    "    matrix.row_op(row, lambda value, index: value - matrix.row(diagonal)[index] * coeff)\n",
    "    return matrix\n",
    "mm2=gauss_eliminate_single(gauss_diagonal(new_matrix('a', 3), 0), 0, 1)\n",
    "mm2"
   ]
  },
  {
   "cell_type": "code",
   "execution_count": 19,
   "metadata": {},
   "outputs": [
    {
     "data": {
      "text/latex": [
       "$\\displaystyle \\left[\\begin{matrix}a_{00} & a_{01} & a_{02} & 1 & 0 & 0\\\\a_{10} & a_{11} & a_{12} & 0 & 1 & 0\\\\a_{20} & a_{21} & a_{22} & 0 & 0 & 1\\end{matrix}\\right]$"
      ],
      "text/plain": [
       "Matrix([\n",
       "[a_00, a_01, a_02, 1, 0, 0],\n",
       "[a_10, a_11, a_12, 0, 1, 0],\n",
       "[a_20, a_21, a_22, 0, 0, 1]])"
      ]
     },
     "execution_count": 19,
     "metadata": {},
     "output_type": "execute_result"
    }
   ],
   "source": [
    "mma = new_matrix('a', 3, 3)\n",
    "mmb = new_matrix('b', 3, 1)\n",
    "\n",
    "mls = sym.BlockMatrix([mma, mmb]).as_explicit()\n",
    "mls\n",
    "\n",
    "minv = sym.BlockMatrix([mma, sym.Identity(3)]).as_explicit()\n",
    "\n",
    "minv\n",
    "# все главные угловые миноры ненулевые"
   ]
  },
  {
   "cell_type": "code",
   "execution_count": 12,
   "metadata": {},
   "outputs": [
    {
     "data": {
      "text/latex": [
       "$\\displaystyle \\left[\\begin{matrix}1 & \\frac{a_{01}}{a_{00}} & \\frac{a_{02}}{a_{00}} & \\frac{a_{03}}{a_{00}}\\\\0 & a_{11} - \\frac{a_{01} a_{10}}{a_{00}} & a_{12} - \\frac{a_{02} a_{10}}{a_{00}} & a_{13} - \\frac{a_{03} a_{10}}{a_{00}}\\\\a_{20} & a_{21} & a_{22} & a_{23}\\\\a_{30} & a_{31} & a_{32} & a_{33}\\end{matrix}\\right]$"
      ],
      "text/plain": [
       "Matrix([\n",
       "[   1,             a_01/a_00,             a_02/a_00,             a_03/a_00],\n",
       "[   0, a_11 - a_01*a_10/a_00, a_12 - a_02*a_10/a_00, a_13 - a_03*a_10/a_00],\n",
       "[a_20,                  a_21,                  a_22,                  a_23],\n",
       "[a_30,                  a_31,                  a_32,                  a_33]])"
      ]
     },
     "execution_count": 12,
     "metadata": {},
     "output_type": "execute_result"
    }
   ],
   "source": [
    "gauss_eliminate_single(gauss_diagonal(new_matrix('a', 4), 0), 0, 1)"
   ]
  },
  {
   "cell_type": "code",
   "execution_count": 13,
   "metadata": {},
   "outputs": [
    {
     "data": {
      "text/latex": [
       "$\\displaystyle \\left[\\begin{matrix}1 & \\frac{a_{01}}{a_{00}} & \\frac{a_{02}}{a_{00}} & \\frac{a_{03}}{a_{00}}\\\\0 & a_{11} - \\frac{a_{01} a_{10}}{a_{00}} & a_{12} - \\frac{a_{02} a_{10}}{a_{00}} & a_{13} - \\frac{a_{03} a_{10}}{a_{00}}\\\\0 & a_{21} - \\frac{a_{01} a_{20}}{a_{00}} & a_{22} - \\frac{a_{02} a_{20}}{a_{00}} & a_{23} - \\frac{a_{03} a_{20}}{a_{00}}\\\\a_{30} & a_{31} & a_{32} & a_{33}\\end{matrix}\\right]$"
      ],
      "text/plain": [
       "Matrix([\n",
       "[   1,             a_01/a_00,             a_02/a_00,             a_03/a_00],\n",
       "[   0, a_11 - a_01*a_10/a_00, a_12 - a_02*a_10/a_00, a_13 - a_03*a_10/a_00],\n",
       "[   0, a_21 - a_01*a_20/a_00, a_22 - a_02*a_20/a_00, a_23 - a_03*a_20/a_00],\n",
       "[a_30,                  a_31,                  a_32,                  a_33]])"
      ]
     },
     "execution_count": 13,
     "metadata": {},
     "output_type": "execute_result"
    }
   ],
   "source": [
    "gauss_eliminate_single(_, 0, 2)"
   ]
  },
  {
   "cell_type": "code",
   "execution_count": 14,
   "metadata": {},
   "outputs": [
    {
     "data": {
      "text/latex": [
       "$\\displaystyle \\left[\\begin{matrix}1 & \\frac{a_{01}}{a_{00}} & \\frac{a_{02}}{a_{00}} & \\frac{a_{03}}{a_{00}}\\\\0 & a_{11} - \\frac{a_{01} a_{10}}{a_{00}} & a_{12} - \\frac{a_{02} a_{10}}{a_{00}} & a_{13} - \\frac{a_{03} a_{10}}{a_{00}}\\\\0 & a_{21} - \\frac{a_{01} a_{20}}{a_{00}} & a_{22} - \\frac{a_{02} a_{20}}{a_{00}} & a_{23} - \\frac{a_{03} a_{20}}{a_{00}}\\\\0 & a_{31} - \\frac{a_{01} a_{30}}{a_{00}} & a_{32} - \\frac{a_{02} a_{30}}{a_{00}} & a_{33} - \\frac{a_{03} a_{30}}{a_{00}}\\end{matrix}\\right]$"
      ],
      "text/plain": [
       "Matrix([\n",
       "[1,             a_01/a_00,             a_02/a_00,             a_03/a_00],\n",
       "[0, a_11 - a_01*a_10/a_00, a_12 - a_02*a_10/a_00, a_13 - a_03*a_10/a_00],\n",
       "[0, a_21 - a_01*a_20/a_00, a_22 - a_02*a_20/a_00, a_23 - a_03*a_20/a_00],\n",
       "[0, a_31 - a_01*a_30/a_00, a_32 - a_02*a_30/a_00, a_33 - a_03*a_30/a_00]])"
      ]
     },
     "execution_count": 14,
     "metadata": {},
     "output_type": "execute_result"
    }
   ],
   "source": [
    "gauss_eliminate_single(_, 0, 3)"
   ]
  },
  {
   "cell_type": "code",
   "execution_count": null,
   "metadata": {},
   "outputs": [],
   "source": []
  },
  {
   "cell_type": "code",
   "execution_count": null,
   "metadata": {},
   "outputs": [],
   "source": []
  }
 ],
 "metadata": {
  "kernelspec": {
   "display_name": "Python 3",
   "language": "python",
   "name": "python3"
  },
  "language_info": {
   "codemirror_mode": {
    "name": "ipython",
    "version": 3
   },
   "file_extension": ".py",
   "mimetype": "text/x-python",
   "name": "python",
   "nbconvert_exporter": "python",
   "pygments_lexer": "ipython3",
   "version": "3.7.6"
  }
 },
 "nbformat": 4,
 "nbformat_minor": 4
}
